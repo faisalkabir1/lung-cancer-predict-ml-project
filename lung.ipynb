{
  "cells": [
    {
      "cell_type": "markdown",
      "metadata": {
        "id": "view-in-github",
        "colab_type": "text"
      },
      "source": [
        "<a href=\"https://colab.research.google.com/github/faisalkabir1/lung-cancer-predict-ml-project/blob/main/lung.ipynb\" target=\"_parent\"><img src=\"https://colab.research.google.com/assets/colab-badge.svg\" alt=\"Open In Colab\"/></a>"
      ]
    },
    {
      "cell_type": "code",
      "execution_count": null,
      "metadata": {
        "id": "KBZUlcxjGDKu"
      },
      "outputs": [],
      "source": [
        "import numpy as np\n",
        "import pandas as pd \n",
        "import os\n",
        "import seaborn as sns\n",
        "import matplotlib.pyplot as plt\n",
        "from sklearn.model_selection import train_test_split\n",
        "from sklearn.metrics import accuracy_score, precision_score, recall_score, f1_score, roc_auc_score\n",
        "from sklearn.metrics import confusion_matrix, plot_roc_curve\n",
        "from sklearn.preprocessing import Normalizer"
      ]
    },
    {
      "cell_type": "code",
      "execution_count": null,
      "metadata": {
        "colab": {
          "base_uri": "https://localhost:8080/",
          "height": 508
        },
        "id": "gtkr7HM0Jp2T",
        "outputId": "5592cdf0-fbb4-4d8e-bad4-1fbf9ee8f572"
      },
      "outputs": [
        {
          "output_type": "execute_result",
          "data": {
            "text/plain": [
              "   index Patient Id  Age  Gender  Air Pollution  Alcohol use  Dust Allergy  \\\n",
              "0      0         P1   33       1              2            4             5   \n",
              "1      1        P10   17       1              3            1             5   \n",
              "2      2       P100   35       1              4            5             6   \n",
              "3      3      P1000   37       1              7            7             7   \n",
              "4      4       P101   46       1              6            8             7   \n",
              "5      5       P102   35       1              4            5             6   \n",
              "6      6       P103   52       2              2            4             5   \n",
              "7      7       P104   28       2              3            1             4   \n",
              "8      8       P105   35       2              4            5             6   \n",
              "9      9       P106   46       1              2            3             4   \n",
              "\n",
              "   OccuPational Hazards  Genetic Risk  chronic Lung Disease  ...  Fatigue  \\\n",
              "0                     4             3                     2  ...        3   \n",
              "1                     3             4                     2  ...        1   \n",
              "2                     5             5                     4  ...        8   \n",
              "3                     7             6                     7  ...        4   \n",
              "4                     7             7                     6  ...        3   \n",
              "5                     5             5                     4  ...        8   \n",
              "6                     4             3                     2  ...        3   \n",
              "7                     3             2                     3  ...        3   \n",
              "8                     5             6                     5  ...        1   \n",
              "9                     2             4                     3  ...        1   \n",
              "\n",
              "   Weight Loss  Shortness of Breath  Wheezing  Swallowing Difficulty  \\\n",
              "0            4                    2         2                      3   \n",
              "1            3                    7         8                      6   \n",
              "2            7                    9         2                      1   \n",
              "3            2                    3         1                      4   \n",
              "4            2                    4         1                      4   \n",
              "5            7                    9         2                      1   \n",
              "6            4                    2         2                      3   \n",
              "7            2                    2         4                      2   \n",
              "8            4                    3         2                      4   \n",
              "9            2                    4         6                      5   \n",
              "\n",
              "   Clubbing of Finger Nails  Frequent Cold  Dry Cough  Snoring   Level  \n",
              "0                         1              2          3        4     Low  \n",
              "1                         2              1          7        2  Medium  \n",
              "2                         4              6          7        2    High  \n",
              "3                         5              6          7        5    High  \n",
              "4                         2              4          2        3    High  \n",
              "5                         4              6          7        2    High  \n",
              "6                         1              2          3        4     Low  \n",
              "7                         2              3          4        3     Low  \n",
              "8                         6              2          4        1  Medium  \n",
              "9                         4              2          1        5  Medium  \n",
              "\n",
              "[10 rows x 26 columns]"
            ],
            "text/html": [
              "\n",
              "  <div id=\"df-bed6d18b-4105-4d67-8580-b213be9f44af\">\n",
              "    <div class=\"colab-df-container\">\n",
              "      <div>\n",
              "<style scoped>\n",
              "    .dataframe tbody tr th:only-of-type {\n",
              "        vertical-align: middle;\n",
              "    }\n",
              "\n",
              "    .dataframe tbody tr th {\n",
              "        vertical-align: top;\n",
              "    }\n",
              "\n",
              "    .dataframe thead th {\n",
              "        text-align: right;\n",
              "    }\n",
              "</style>\n",
              "<table border=\"1\" class=\"dataframe\">\n",
              "  <thead>\n",
              "    <tr style=\"text-align: right;\">\n",
              "      <th></th>\n",
              "      <th>index</th>\n",
              "      <th>Patient Id</th>\n",
              "      <th>Age</th>\n",
              "      <th>Gender</th>\n",
              "      <th>Air Pollution</th>\n",
              "      <th>Alcohol use</th>\n",
              "      <th>Dust Allergy</th>\n",
              "      <th>OccuPational Hazards</th>\n",
              "      <th>Genetic Risk</th>\n",
              "      <th>chronic Lung Disease</th>\n",
              "      <th>...</th>\n",
              "      <th>Fatigue</th>\n",
              "      <th>Weight Loss</th>\n",
              "      <th>Shortness of Breath</th>\n",
              "      <th>Wheezing</th>\n",
              "      <th>Swallowing Difficulty</th>\n",
              "      <th>Clubbing of Finger Nails</th>\n",
              "      <th>Frequent Cold</th>\n",
              "      <th>Dry Cough</th>\n",
              "      <th>Snoring</th>\n",
              "      <th>Level</th>\n",
              "    </tr>\n",
              "  </thead>\n",
              "  <tbody>\n",
              "    <tr>\n",
              "      <th>0</th>\n",
              "      <td>0</td>\n",
              "      <td>P1</td>\n",
              "      <td>33</td>\n",
              "      <td>1</td>\n",
              "      <td>2</td>\n",
              "      <td>4</td>\n",
              "      <td>5</td>\n",
              "      <td>4</td>\n",
              "      <td>3</td>\n",
              "      <td>2</td>\n",
              "      <td>...</td>\n",
              "      <td>3</td>\n",
              "      <td>4</td>\n",
              "      <td>2</td>\n",
              "      <td>2</td>\n",
              "      <td>3</td>\n",
              "      <td>1</td>\n",
              "      <td>2</td>\n",
              "      <td>3</td>\n",
              "      <td>4</td>\n",
              "      <td>Low</td>\n",
              "    </tr>\n",
              "    <tr>\n",
              "      <th>1</th>\n",
              "      <td>1</td>\n",
              "      <td>P10</td>\n",
              "      <td>17</td>\n",
              "      <td>1</td>\n",
              "      <td>3</td>\n",
              "      <td>1</td>\n",
              "      <td>5</td>\n",
              "      <td>3</td>\n",
              "      <td>4</td>\n",
              "      <td>2</td>\n",
              "      <td>...</td>\n",
              "      <td>1</td>\n",
              "      <td>3</td>\n",
              "      <td>7</td>\n",
              "      <td>8</td>\n",
              "      <td>6</td>\n",
              "      <td>2</td>\n",
              "      <td>1</td>\n",
              "      <td>7</td>\n",
              "      <td>2</td>\n",
              "      <td>Medium</td>\n",
              "    </tr>\n",
              "    <tr>\n",
              "      <th>2</th>\n",
              "      <td>2</td>\n",
              "      <td>P100</td>\n",
              "      <td>35</td>\n",
              "      <td>1</td>\n",
              "      <td>4</td>\n",
              "      <td>5</td>\n",
              "      <td>6</td>\n",
              "      <td>5</td>\n",
              "      <td>5</td>\n",
              "      <td>4</td>\n",
              "      <td>...</td>\n",
              "      <td>8</td>\n",
              "      <td>7</td>\n",
              "      <td>9</td>\n",
              "      <td>2</td>\n",
              "      <td>1</td>\n",
              "      <td>4</td>\n",
              "      <td>6</td>\n",
              "      <td>7</td>\n",
              "      <td>2</td>\n",
              "      <td>High</td>\n",
              "    </tr>\n",
              "    <tr>\n",
              "      <th>3</th>\n",
              "      <td>3</td>\n",
              "      <td>P1000</td>\n",
              "      <td>37</td>\n",
              "      <td>1</td>\n",
              "      <td>7</td>\n",
              "      <td>7</td>\n",
              "      <td>7</td>\n",
              "      <td>7</td>\n",
              "      <td>6</td>\n",
              "      <td>7</td>\n",
              "      <td>...</td>\n",
              "      <td>4</td>\n",
              "      <td>2</td>\n",
              "      <td>3</td>\n",
              "      <td>1</td>\n",
              "      <td>4</td>\n",
              "      <td>5</td>\n",
              "      <td>6</td>\n",
              "      <td>7</td>\n",
              "      <td>5</td>\n",
              "      <td>High</td>\n",
              "    </tr>\n",
              "    <tr>\n",
              "      <th>4</th>\n",
              "      <td>4</td>\n",
              "      <td>P101</td>\n",
              "      <td>46</td>\n",
              "      <td>1</td>\n",
              "      <td>6</td>\n",
              "      <td>8</td>\n",
              "      <td>7</td>\n",
              "      <td>7</td>\n",
              "      <td>7</td>\n",
              "      <td>6</td>\n",
              "      <td>...</td>\n",
              "      <td>3</td>\n",
              "      <td>2</td>\n",
              "      <td>4</td>\n",
              "      <td>1</td>\n",
              "      <td>4</td>\n",
              "      <td>2</td>\n",
              "      <td>4</td>\n",
              "      <td>2</td>\n",
              "      <td>3</td>\n",
              "      <td>High</td>\n",
              "    </tr>\n",
              "    <tr>\n",
              "      <th>5</th>\n",
              "      <td>5</td>\n",
              "      <td>P102</td>\n",
              "      <td>35</td>\n",
              "      <td>1</td>\n",
              "      <td>4</td>\n",
              "      <td>5</td>\n",
              "      <td>6</td>\n",
              "      <td>5</td>\n",
              "      <td>5</td>\n",
              "      <td>4</td>\n",
              "      <td>...</td>\n",
              "      <td>8</td>\n",
              "      <td>7</td>\n",
              "      <td>9</td>\n",
              "      <td>2</td>\n",
              "      <td>1</td>\n",
              "      <td>4</td>\n",
              "      <td>6</td>\n",
              "      <td>7</td>\n",
              "      <td>2</td>\n",
              "      <td>High</td>\n",
              "    </tr>\n",
              "    <tr>\n",
              "      <th>6</th>\n",
              "      <td>6</td>\n",
              "      <td>P103</td>\n",
              "      <td>52</td>\n",
              "      <td>2</td>\n",
              "      <td>2</td>\n",
              "      <td>4</td>\n",
              "      <td>5</td>\n",
              "      <td>4</td>\n",
              "      <td>3</td>\n",
              "      <td>2</td>\n",
              "      <td>...</td>\n",
              "      <td>3</td>\n",
              "      <td>4</td>\n",
              "      <td>2</td>\n",
              "      <td>2</td>\n",
              "      <td>3</td>\n",
              "      <td>1</td>\n",
              "      <td>2</td>\n",
              "      <td>3</td>\n",
              "      <td>4</td>\n",
              "      <td>Low</td>\n",
              "    </tr>\n",
              "    <tr>\n",
              "      <th>7</th>\n",
              "      <td>7</td>\n",
              "      <td>P104</td>\n",
              "      <td>28</td>\n",
              "      <td>2</td>\n",
              "      <td>3</td>\n",
              "      <td>1</td>\n",
              "      <td>4</td>\n",
              "      <td>3</td>\n",
              "      <td>2</td>\n",
              "      <td>3</td>\n",
              "      <td>...</td>\n",
              "      <td>3</td>\n",
              "      <td>2</td>\n",
              "      <td>2</td>\n",
              "      <td>4</td>\n",
              "      <td>2</td>\n",
              "      <td>2</td>\n",
              "      <td>3</td>\n",
              "      <td>4</td>\n",
              "      <td>3</td>\n",
              "      <td>Low</td>\n",
              "    </tr>\n",
              "    <tr>\n",
              "      <th>8</th>\n",
              "      <td>8</td>\n",
              "      <td>P105</td>\n",
              "      <td>35</td>\n",
              "      <td>2</td>\n",
              "      <td>4</td>\n",
              "      <td>5</td>\n",
              "      <td>6</td>\n",
              "      <td>5</td>\n",
              "      <td>6</td>\n",
              "      <td>5</td>\n",
              "      <td>...</td>\n",
              "      <td>1</td>\n",
              "      <td>4</td>\n",
              "      <td>3</td>\n",
              "      <td>2</td>\n",
              "      <td>4</td>\n",
              "      <td>6</td>\n",
              "      <td>2</td>\n",
              "      <td>4</td>\n",
              "      <td>1</td>\n",
              "      <td>Medium</td>\n",
              "    </tr>\n",
              "    <tr>\n",
              "      <th>9</th>\n",
              "      <td>9</td>\n",
              "      <td>P106</td>\n",
              "      <td>46</td>\n",
              "      <td>1</td>\n",
              "      <td>2</td>\n",
              "      <td>3</td>\n",
              "      <td>4</td>\n",
              "      <td>2</td>\n",
              "      <td>4</td>\n",
              "      <td>3</td>\n",
              "      <td>...</td>\n",
              "      <td>1</td>\n",
              "      <td>2</td>\n",
              "      <td>4</td>\n",
              "      <td>6</td>\n",
              "      <td>5</td>\n",
              "      <td>4</td>\n",
              "      <td>2</td>\n",
              "      <td>1</td>\n",
              "      <td>5</td>\n",
              "      <td>Medium</td>\n",
              "    </tr>\n",
              "  </tbody>\n",
              "</table>\n",
              "<p>10 rows × 26 columns</p>\n",
              "</div>\n",
              "      <button class=\"colab-df-convert\" onclick=\"convertToInteractive('df-bed6d18b-4105-4d67-8580-b213be9f44af')\"\n",
              "              title=\"Convert this dataframe to an interactive table.\"\n",
              "              style=\"display:none;\">\n",
              "        \n",
              "  <svg xmlns=\"http://www.w3.org/2000/svg\" height=\"24px\"viewBox=\"0 0 24 24\"\n",
              "       width=\"24px\">\n",
              "    <path d=\"M0 0h24v24H0V0z\" fill=\"none\"/>\n",
              "    <path d=\"M18.56 5.44l.94 2.06.94-2.06 2.06-.94-2.06-.94-.94-2.06-.94 2.06-2.06.94zm-11 1L8.5 8.5l.94-2.06 2.06-.94-2.06-.94L8.5 2.5l-.94 2.06-2.06.94zm10 10l.94 2.06.94-2.06 2.06-.94-2.06-.94-.94-2.06-.94 2.06-2.06.94z\"/><path d=\"M17.41 7.96l-1.37-1.37c-.4-.4-.92-.59-1.43-.59-.52 0-1.04.2-1.43.59L10.3 9.45l-7.72 7.72c-.78.78-.78 2.05 0 2.83L4 21.41c.39.39.9.59 1.41.59.51 0 1.02-.2 1.41-.59l7.78-7.78 2.81-2.81c.8-.78.8-2.07 0-2.86zM5.41 20L4 18.59l7.72-7.72 1.47 1.35L5.41 20z\"/>\n",
              "  </svg>\n",
              "      </button>\n",
              "      \n",
              "  <style>\n",
              "    .colab-df-container {\n",
              "      display:flex;\n",
              "      flex-wrap:wrap;\n",
              "      gap: 12px;\n",
              "    }\n",
              "\n",
              "    .colab-df-convert {\n",
              "      background-color: #E8F0FE;\n",
              "      border: none;\n",
              "      border-radius: 50%;\n",
              "      cursor: pointer;\n",
              "      display: none;\n",
              "      fill: #1967D2;\n",
              "      height: 32px;\n",
              "      padding: 0 0 0 0;\n",
              "      width: 32px;\n",
              "    }\n",
              "\n",
              "    .colab-df-convert:hover {\n",
              "      background-color: #E2EBFA;\n",
              "      box-shadow: 0px 1px 2px rgba(60, 64, 67, 0.3), 0px 1px 3px 1px rgba(60, 64, 67, 0.15);\n",
              "      fill: #174EA6;\n",
              "    }\n",
              "\n",
              "    [theme=dark] .colab-df-convert {\n",
              "      background-color: #3B4455;\n",
              "      fill: #D2E3FC;\n",
              "    }\n",
              "\n",
              "    [theme=dark] .colab-df-convert:hover {\n",
              "      background-color: #434B5C;\n",
              "      box-shadow: 0px 1px 3px 1px rgba(0, 0, 0, 0.15);\n",
              "      filter: drop-shadow(0px 1px 2px rgba(0, 0, 0, 0.3));\n",
              "      fill: #FFFFFF;\n",
              "    }\n",
              "  </style>\n",
              "\n",
              "      <script>\n",
              "        const buttonEl =\n",
              "          document.querySelector('#df-bed6d18b-4105-4d67-8580-b213be9f44af button.colab-df-convert');\n",
              "        buttonEl.style.display =\n",
              "          google.colab.kernel.accessAllowed ? 'block' : 'none';\n",
              "\n",
              "        async function convertToInteractive(key) {\n",
              "          const element = document.querySelector('#df-bed6d18b-4105-4d67-8580-b213be9f44af');\n",
              "          const dataTable =\n",
              "            await google.colab.kernel.invokeFunction('convertToInteractive',\n",
              "                                                     [key], {});\n",
              "          if (!dataTable) return;\n",
              "\n",
              "          const docLinkHtml = 'Like what you see? Visit the ' +\n",
              "            '<a target=\"_blank\" href=https://colab.research.google.com/notebooks/data_table.ipynb>data table notebook</a>'\n",
              "            + ' to learn more about interactive tables.';\n",
              "          element.innerHTML = '';\n",
              "          dataTable['output_type'] = 'display_data';\n",
              "          await google.colab.output.renderOutput(dataTable, element);\n",
              "          const docLink = document.createElement('div');\n",
              "          docLink.innerHTML = docLinkHtml;\n",
              "          element.appendChild(docLink);\n",
              "        }\n",
              "      </script>\n",
              "    </div>\n",
              "  </div>\n",
              "  "
            ]
          },
          "metadata": {},
          "execution_count": 2
        }
      ],
      "source": [
        "df= pd.read_csv(\"/content/cancer patient data sets.csv\")\n",
        "df.head(10)\n"
      ]
    },
    {
      "cell_type": "code",
      "execution_count": null,
      "metadata": {
        "id": "9w1oK68uK9P1"
      },
      "outputs": [],
      "source": [
        "df=df.drop(['index','Patient Id'], axis = 1)"
      ]
    },
    {
      "cell_type": "code",
      "execution_count": null,
      "metadata": {
        "id": "Uln8MVj4LFkO"
      },
      "outputs": [],
      "source": [
        "df.replace(to_replace = \"Low\" , value = 0 , inplace = True)\n",
        "df.replace(to_replace = \"Medium\" , value = 1 , inplace = True)\n",
        "df.replace(to_replace = \"High\" , value = 1 , inplace = True)"
      ]
    },
    {
      "cell_type": "code",
      "execution_count": null,
      "metadata": {
        "id": "JmkWXdxJRfhU"
      },
      "outputs": [],
      "source": []
    },
    {
      "cell_type": "code",
      "execution_count": null,
      "metadata": {
        "colab": {
          "base_uri": "https://localhost:8080/"
        },
        "id": "Ml9d1yIB76wx",
        "outputId": "7b6ba10c-21b1-4105-b544-d616ed4eceaa"
      },
      "outputs": [
        {
          "output_type": "execute_result",
          "data": {
            "text/plain": [
              "1    697\n",
              "0    303\n",
              "Name: Level, dtype: int64"
            ]
          },
          "metadata": {},
          "execution_count": 5
        }
      ],
      "source": [
        "df['Level'].value_counts()"
      ]
    },
    {
      "cell_type": "code",
      "execution_count": null,
      "metadata": {
        "colab": {
          "base_uri": "https://localhost:8080/",
          "height": 428
        },
        "id": "45s5atyPLHjk",
        "outputId": "5c9a2abc-de0e-4d29-feab-70f6bdd4b634"
      },
      "outputs": [
        {
          "output_type": "execute_result",
          "data": {
            "text/plain": [
              "               Age       Gender  Air Pollution  Alcohol use  Dust Allergy  \\\n",
              "count  1000.000000  1000.000000      1000.0000  1000.000000   1000.000000   \n",
              "mean     37.174000     1.402000         3.8400     4.563000      5.165000   \n",
              "std      12.005493     0.490547         2.0304     2.620477      1.980833   \n",
              "min      14.000000     1.000000         1.0000     1.000000      1.000000   \n",
              "25%      27.750000     1.000000         2.0000     2.000000      4.000000   \n",
              "50%      36.000000     1.000000         3.0000     5.000000      6.000000   \n",
              "75%      45.000000     2.000000         6.0000     7.000000      7.000000   \n",
              "max      73.000000     2.000000         8.0000     8.000000      8.000000   \n",
              "\n",
              "       OccuPational Hazards  Genetic Risk  chronic Lung Disease  \\\n",
              "count           1000.000000   1000.000000           1000.000000   \n",
              "mean               4.840000      4.580000              4.380000   \n",
              "std                2.107805      2.126999              1.848518   \n",
              "min                1.000000      1.000000              1.000000   \n",
              "25%                3.000000      2.000000              3.000000   \n",
              "50%                5.000000      5.000000              4.000000   \n",
              "75%                7.000000      7.000000              6.000000   \n",
              "max                8.000000      7.000000              7.000000   \n",
              "\n",
              "       Balanced Diet      Obesity  ...      Fatigue  Weight Loss  \\\n",
              "count    1000.000000  1000.000000  ...  1000.000000  1000.000000   \n",
              "mean        4.491000     4.465000  ...     3.856000     3.855000   \n",
              "std         2.135528     2.124921  ...     2.244616     2.206546   \n",
              "min         1.000000     1.000000  ...     1.000000     1.000000   \n",
              "25%         2.000000     3.000000  ...     2.000000     2.000000   \n",
              "50%         4.000000     4.000000  ...     3.000000     3.000000   \n",
              "75%         7.000000     7.000000  ...     5.000000     6.000000   \n",
              "max         7.000000     7.000000  ...     9.000000     8.000000   \n",
              "\n",
              "       Shortness of Breath     Wheezing  Swallowing Difficulty  \\\n",
              "count          1000.000000  1000.000000            1000.000000   \n",
              "mean              4.240000     3.777000               3.746000   \n",
              "std               2.285087     2.041921               2.270383   \n",
              "min               1.000000     1.000000               1.000000   \n",
              "25%               2.000000     2.000000               2.000000   \n",
              "50%               4.000000     4.000000               4.000000   \n",
              "75%               6.000000     5.000000               5.000000   \n",
              "max               9.000000     8.000000               8.000000   \n",
              "\n",
              "       Clubbing of Finger Nails  Frequent Cold    Dry Cough      Snoring  \\\n",
              "count               1000.000000    1000.000000  1000.000000  1000.000000   \n",
              "mean                   3.923000       3.536000     3.853000     2.926000   \n",
              "std                    2.388048       1.832502     2.039007     1.474686   \n",
              "min                    1.000000       1.000000     1.000000     1.000000   \n",
              "25%                    2.000000       2.000000     2.000000     2.000000   \n",
              "50%                    4.000000       3.000000     4.000000     3.000000   \n",
              "75%                    5.000000       5.000000     6.000000     4.000000   \n",
              "max                    9.000000       7.000000     7.000000     7.000000   \n",
              "\n",
              "             Level  \n",
              "count  1000.000000  \n",
              "mean      0.697000  \n",
              "std       0.459785  \n",
              "min       0.000000  \n",
              "25%       0.000000  \n",
              "50%       1.000000  \n",
              "75%       1.000000  \n",
              "max       1.000000  \n",
              "\n",
              "[8 rows x 24 columns]"
            ],
            "text/html": [
              "\n",
              "  <div id=\"df-a0a37afd-a3c9-42c3-bceb-20a679ef203c\">\n",
              "    <div class=\"colab-df-container\">\n",
              "      <div>\n",
              "<style scoped>\n",
              "    .dataframe tbody tr th:only-of-type {\n",
              "        vertical-align: middle;\n",
              "    }\n",
              "\n",
              "    .dataframe tbody tr th {\n",
              "        vertical-align: top;\n",
              "    }\n",
              "\n",
              "    .dataframe thead th {\n",
              "        text-align: right;\n",
              "    }\n",
              "</style>\n",
              "<table border=\"1\" class=\"dataframe\">\n",
              "  <thead>\n",
              "    <tr style=\"text-align: right;\">\n",
              "      <th></th>\n",
              "      <th>Age</th>\n",
              "      <th>Gender</th>\n",
              "      <th>Air Pollution</th>\n",
              "      <th>Alcohol use</th>\n",
              "      <th>Dust Allergy</th>\n",
              "      <th>OccuPational Hazards</th>\n",
              "      <th>Genetic Risk</th>\n",
              "      <th>chronic Lung Disease</th>\n",
              "      <th>Balanced Diet</th>\n",
              "      <th>Obesity</th>\n",
              "      <th>...</th>\n",
              "      <th>Fatigue</th>\n",
              "      <th>Weight Loss</th>\n",
              "      <th>Shortness of Breath</th>\n",
              "      <th>Wheezing</th>\n",
              "      <th>Swallowing Difficulty</th>\n",
              "      <th>Clubbing of Finger Nails</th>\n",
              "      <th>Frequent Cold</th>\n",
              "      <th>Dry Cough</th>\n",
              "      <th>Snoring</th>\n",
              "      <th>Level</th>\n",
              "    </tr>\n",
              "  </thead>\n",
              "  <tbody>\n",
              "    <tr>\n",
              "      <th>count</th>\n",
              "      <td>1000.000000</td>\n",
              "      <td>1000.000000</td>\n",
              "      <td>1000.0000</td>\n",
              "      <td>1000.000000</td>\n",
              "      <td>1000.000000</td>\n",
              "      <td>1000.000000</td>\n",
              "      <td>1000.000000</td>\n",
              "      <td>1000.000000</td>\n",
              "      <td>1000.000000</td>\n",
              "      <td>1000.000000</td>\n",
              "      <td>...</td>\n",
              "      <td>1000.000000</td>\n",
              "      <td>1000.000000</td>\n",
              "      <td>1000.000000</td>\n",
              "      <td>1000.000000</td>\n",
              "      <td>1000.000000</td>\n",
              "      <td>1000.000000</td>\n",
              "      <td>1000.000000</td>\n",
              "      <td>1000.000000</td>\n",
              "      <td>1000.000000</td>\n",
              "      <td>1000.000000</td>\n",
              "    </tr>\n",
              "    <tr>\n",
              "      <th>mean</th>\n",
              "      <td>37.174000</td>\n",
              "      <td>1.402000</td>\n",
              "      <td>3.8400</td>\n",
              "      <td>4.563000</td>\n",
              "      <td>5.165000</td>\n",
              "      <td>4.840000</td>\n",
              "      <td>4.580000</td>\n",
              "      <td>4.380000</td>\n",
              "      <td>4.491000</td>\n",
              "      <td>4.465000</td>\n",
              "      <td>...</td>\n",
              "      <td>3.856000</td>\n",
              "      <td>3.855000</td>\n",
              "      <td>4.240000</td>\n",
              "      <td>3.777000</td>\n",
              "      <td>3.746000</td>\n",
              "      <td>3.923000</td>\n",
              "      <td>3.536000</td>\n",
              "      <td>3.853000</td>\n",
              "      <td>2.926000</td>\n",
              "      <td>0.697000</td>\n",
              "    </tr>\n",
              "    <tr>\n",
              "      <th>std</th>\n",
              "      <td>12.005493</td>\n",
              "      <td>0.490547</td>\n",
              "      <td>2.0304</td>\n",
              "      <td>2.620477</td>\n",
              "      <td>1.980833</td>\n",
              "      <td>2.107805</td>\n",
              "      <td>2.126999</td>\n",
              "      <td>1.848518</td>\n",
              "      <td>2.135528</td>\n",
              "      <td>2.124921</td>\n",
              "      <td>...</td>\n",
              "      <td>2.244616</td>\n",
              "      <td>2.206546</td>\n",
              "      <td>2.285087</td>\n",
              "      <td>2.041921</td>\n",
              "      <td>2.270383</td>\n",
              "      <td>2.388048</td>\n",
              "      <td>1.832502</td>\n",
              "      <td>2.039007</td>\n",
              "      <td>1.474686</td>\n",
              "      <td>0.459785</td>\n",
              "    </tr>\n",
              "    <tr>\n",
              "      <th>min</th>\n",
              "      <td>14.000000</td>\n",
              "      <td>1.000000</td>\n",
              "      <td>1.0000</td>\n",
              "      <td>1.000000</td>\n",
              "      <td>1.000000</td>\n",
              "      <td>1.000000</td>\n",
              "      <td>1.000000</td>\n",
              "      <td>1.000000</td>\n",
              "      <td>1.000000</td>\n",
              "      <td>1.000000</td>\n",
              "      <td>...</td>\n",
              "      <td>1.000000</td>\n",
              "      <td>1.000000</td>\n",
              "      <td>1.000000</td>\n",
              "      <td>1.000000</td>\n",
              "      <td>1.000000</td>\n",
              "      <td>1.000000</td>\n",
              "      <td>1.000000</td>\n",
              "      <td>1.000000</td>\n",
              "      <td>1.000000</td>\n",
              "      <td>0.000000</td>\n",
              "    </tr>\n",
              "    <tr>\n",
              "      <th>25%</th>\n",
              "      <td>27.750000</td>\n",
              "      <td>1.000000</td>\n",
              "      <td>2.0000</td>\n",
              "      <td>2.000000</td>\n",
              "      <td>4.000000</td>\n",
              "      <td>3.000000</td>\n",
              "      <td>2.000000</td>\n",
              "      <td>3.000000</td>\n",
              "      <td>2.000000</td>\n",
              "      <td>3.000000</td>\n",
              "      <td>...</td>\n",
              "      <td>2.000000</td>\n",
              "      <td>2.000000</td>\n",
              "      <td>2.000000</td>\n",
              "      <td>2.000000</td>\n",
              "      <td>2.000000</td>\n",
              "      <td>2.000000</td>\n",
              "      <td>2.000000</td>\n",
              "      <td>2.000000</td>\n",
              "      <td>2.000000</td>\n",
              "      <td>0.000000</td>\n",
              "    </tr>\n",
              "    <tr>\n",
              "      <th>50%</th>\n",
              "      <td>36.000000</td>\n",
              "      <td>1.000000</td>\n",
              "      <td>3.0000</td>\n",
              "      <td>5.000000</td>\n",
              "      <td>6.000000</td>\n",
              "      <td>5.000000</td>\n",
              "      <td>5.000000</td>\n",
              "      <td>4.000000</td>\n",
              "      <td>4.000000</td>\n",
              "      <td>4.000000</td>\n",
              "      <td>...</td>\n",
              "      <td>3.000000</td>\n",
              "      <td>3.000000</td>\n",
              "      <td>4.000000</td>\n",
              "      <td>4.000000</td>\n",
              "      <td>4.000000</td>\n",
              "      <td>4.000000</td>\n",
              "      <td>3.000000</td>\n",
              "      <td>4.000000</td>\n",
              "      <td>3.000000</td>\n",
              "      <td>1.000000</td>\n",
              "    </tr>\n",
              "    <tr>\n",
              "      <th>75%</th>\n",
              "      <td>45.000000</td>\n",
              "      <td>2.000000</td>\n",
              "      <td>6.0000</td>\n",
              "      <td>7.000000</td>\n",
              "      <td>7.000000</td>\n",
              "      <td>7.000000</td>\n",
              "      <td>7.000000</td>\n",
              "      <td>6.000000</td>\n",
              "      <td>7.000000</td>\n",
              "      <td>7.000000</td>\n",
              "      <td>...</td>\n",
              "      <td>5.000000</td>\n",
              "      <td>6.000000</td>\n",
              "      <td>6.000000</td>\n",
              "      <td>5.000000</td>\n",
              "      <td>5.000000</td>\n",
              "      <td>5.000000</td>\n",
              "      <td>5.000000</td>\n",
              "      <td>6.000000</td>\n",
              "      <td>4.000000</td>\n",
              "      <td>1.000000</td>\n",
              "    </tr>\n",
              "    <tr>\n",
              "      <th>max</th>\n",
              "      <td>73.000000</td>\n",
              "      <td>2.000000</td>\n",
              "      <td>8.0000</td>\n",
              "      <td>8.000000</td>\n",
              "      <td>8.000000</td>\n",
              "      <td>8.000000</td>\n",
              "      <td>7.000000</td>\n",
              "      <td>7.000000</td>\n",
              "      <td>7.000000</td>\n",
              "      <td>7.000000</td>\n",
              "      <td>...</td>\n",
              "      <td>9.000000</td>\n",
              "      <td>8.000000</td>\n",
              "      <td>9.000000</td>\n",
              "      <td>8.000000</td>\n",
              "      <td>8.000000</td>\n",
              "      <td>9.000000</td>\n",
              "      <td>7.000000</td>\n",
              "      <td>7.000000</td>\n",
              "      <td>7.000000</td>\n",
              "      <td>1.000000</td>\n",
              "    </tr>\n",
              "  </tbody>\n",
              "</table>\n",
              "<p>8 rows × 24 columns</p>\n",
              "</div>\n",
              "      <button class=\"colab-df-convert\" onclick=\"convertToInteractive('df-a0a37afd-a3c9-42c3-bceb-20a679ef203c')\"\n",
              "              title=\"Convert this dataframe to an interactive table.\"\n",
              "              style=\"display:none;\">\n",
              "        \n",
              "  <svg xmlns=\"http://www.w3.org/2000/svg\" height=\"24px\"viewBox=\"0 0 24 24\"\n",
              "       width=\"24px\">\n",
              "    <path d=\"M0 0h24v24H0V0z\" fill=\"none\"/>\n",
              "    <path d=\"M18.56 5.44l.94 2.06.94-2.06 2.06-.94-2.06-.94-.94-2.06-.94 2.06-2.06.94zm-11 1L8.5 8.5l.94-2.06 2.06-.94-2.06-.94L8.5 2.5l-.94 2.06-2.06.94zm10 10l.94 2.06.94-2.06 2.06-.94-2.06-.94-.94-2.06-.94 2.06-2.06.94z\"/><path d=\"M17.41 7.96l-1.37-1.37c-.4-.4-.92-.59-1.43-.59-.52 0-1.04.2-1.43.59L10.3 9.45l-7.72 7.72c-.78.78-.78 2.05 0 2.83L4 21.41c.39.39.9.59 1.41.59.51 0 1.02-.2 1.41-.59l7.78-7.78 2.81-2.81c.8-.78.8-2.07 0-2.86zM5.41 20L4 18.59l7.72-7.72 1.47 1.35L5.41 20z\"/>\n",
              "  </svg>\n",
              "      </button>\n",
              "      \n",
              "  <style>\n",
              "    .colab-df-container {\n",
              "      display:flex;\n",
              "      flex-wrap:wrap;\n",
              "      gap: 12px;\n",
              "    }\n",
              "\n",
              "    .colab-df-convert {\n",
              "      background-color: #E8F0FE;\n",
              "      border: none;\n",
              "      border-radius: 50%;\n",
              "      cursor: pointer;\n",
              "      display: none;\n",
              "      fill: #1967D2;\n",
              "      height: 32px;\n",
              "      padding: 0 0 0 0;\n",
              "      width: 32px;\n",
              "    }\n",
              "\n",
              "    .colab-df-convert:hover {\n",
              "      background-color: #E2EBFA;\n",
              "      box-shadow: 0px 1px 2px rgba(60, 64, 67, 0.3), 0px 1px 3px 1px rgba(60, 64, 67, 0.15);\n",
              "      fill: #174EA6;\n",
              "    }\n",
              "\n",
              "    [theme=dark] .colab-df-convert {\n",
              "      background-color: #3B4455;\n",
              "      fill: #D2E3FC;\n",
              "    }\n",
              "\n",
              "    [theme=dark] .colab-df-convert:hover {\n",
              "      background-color: #434B5C;\n",
              "      box-shadow: 0px 1px 3px 1px rgba(0, 0, 0, 0.15);\n",
              "      filter: drop-shadow(0px 1px 2px rgba(0, 0, 0, 0.3));\n",
              "      fill: #FFFFFF;\n",
              "    }\n",
              "  </style>\n",
              "\n",
              "      <script>\n",
              "        const buttonEl =\n",
              "          document.querySelector('#df-a0a37afd-a3c9-42c3-bceb-20a679ef203c button.colab-df-convert');\n",
              "        buttonEl.style.display =\n",
              "          google.colab.kernel.accessAllowed ? 'block' : 'none';\n",
              "\n",
              "        async function convertToInteractive(key) {\n",
              "          const element = document.querySelector('#df-a0a37afd-a3c9-42c3-bceb-20a679ef203c');\n",
              "          const dataTable =\n",
              "            await google.colab.kernel.invokeFunction('convertToInteractive',\n",
              "                                                     [key], {});\n",
              "          if (!dataTable) return;\n",
              "\n",
              "          const docLinkHtml = 'Like what you see? Visit the ' +\n",
              "            '<a target=\"_blank\" href=https://colab.research.google.com/notebooks/data_table.ipynb>data table notebook</a>'\n",
              "            + ' to learn more about interactive tables.';\n",
              "          element.innerHTML = '';\n",
              "          dataTable['output_type'] = 'display_data';\n",
              "          await google.colab.output.renderOutput(dataTable, element);\n",
              "          const docLink = document.createElement('div');\n",
              "          docLink.innerHTML = docLinkHtml;\n",
              "          element.appendChild(docLink);\n",
              "        }\n",
              "      </script>\n",
              "    </div>\n",
              "  </div>\n",
              "  "
            ]
          },
          "metadata": {},
          "execution_count": 6
        }
      ],
      "source": [
        "df.describe()"
      ]
    },
    {
      "cell_type": "code",
      "execution_count": null,
      "metadata": {
        "id": "Ymd3rwqvLmCI"
      },
      "outputs": [],
      "source": [
        "X = df.iloc[:, :-1]\n",
        "y = df.iloc[:, -1]\n",
        "target = df['Level']"
      ]
    },
    {
      "cell_type": "code",
      "source": [
        "from sklearn.model_selection import train_test_split\n",
        "X_train,X_test,y_train,y_test = train_test_split(X,y,test_size = 0.3, random_state=99,stratify=target)"
      ],
      "metadata": {
        "id": "YAxNhBnB_uXm"
      },
      "execution_count": null,
      "outputs": []
    },
    {
      "cell_type": "code",
      "execution_count": null,
      "metadata": {
        "colab": {
          "base_uri": "https://localhost:8080/"
        },
        "id": "ieNiCxX-JRp8",
        "outputId": "e066c92e-bb78-49f7-fd6d-05a64016eaf2"
      },
      "outputs": [
        {
          "output_type": "stream",
          "name": "stdout",
          "text": [
            "Percentage of data split into the training set: 70.00%\n",
            "Percentage of data split into the testing set: 30.00%\n"
          ]
        }
      ],
      "source": [
        "N = df.shape[0]\n",
        "train_percent = (X_train.shape[0] / N) * 100\n",
        "test_percent = (X_test.shape[0] / N) * 100\n",
        "\n",
        "print(\"Percentage of data split into the training set: {:.2f}%\".format(train_percent))\n",
        "print(\"Percentage of data split into the testing set: {:.2f}%\".format(test_percent))\n"
      ]
    },
    {
      "cell_type": "code",
      "execution_count": null,
      "metadata": {
        "id": "3uTaBIzhLxE6"
      },
      "outputs": [],
      "source": [
        "from sklearn.ensemble import RandomForestClassifier\n",
        "clf=RandomForestClassifier(\n",
        "    criterion = \"gini\",\n",
        "    max_depth=8,\n",
        "    min_samples_split=10,\n",
        "    random_state=5\n",
        ")"
      ]
    },
    {
      "cell_type": "code",
      "execution_count": null,
      "metadata": {
        "colab": {
          "base_uri": "https://localhost:8080/"
        },
        "id": "S_vHMnqkRhSg",
        "outputId": "c087ff1b-aad6-42a3-ea2e-6e8ace63309b"
      },
      "outputs": [
        {
          "output_type": "execute_result",
          "data": {
            "text/plain": [
              "RandomForestClassifier(max_depth=8, min_samples_split=10, random_state=5)"
            ]
          },
          "metadata": {},
          "execution_count": 16
        }
      ],
      "source": [
        "clf.fit(X_train, y_train)"
      ]
    },
    {
      "cell_type": "code",
      "execution_count": null,
      "metadata": {
        "colab": {
          "base_uri": "https://localhost:8080/"
        },
        "id": "vQQGCIEyRmgx",
        "outputId": "169d74bc-d988-4585-c7f3-e48dfab3f2c8"
      },
      "outputs": [
        {
          "output_type": "execute_result",
          "data": {
            "text/plain": [
              "array([0.00353902, 0.        , 0.01925858, 0.09871282, 0.10309095,\n",
              "       0.05402324, 0.04710104, 0.03266516, 0.03095751, 0.08406279,\n",
              "       0.00892168, 0.01583104, 0.00989073, 0.04759853, 0.08560296,\n",
              "       0.03265101, 0.0461381 , 0.07614224, 0.05604203, 0.03321143,\n",
              "       0.03354826, 0.02002255, 0.06098833])"
            ]
          },
          "metadata": {},
          "execution_count": 17
        }
      ],
      "source": [
        "clf.feature_importances_"
      ]
    },
    {
      "cell_type": "code",
      "execution_count": null,
      "metadata": {
        "id": "sh0-n6E6RsvY"
      },
      "outputs": [],
      "source": [
        "y_pred = clf.predict(X_test)"
      ]
    },
    {
      "cell_type": "code",
      "execution_count": null,
      "metadata": {
        "id": "6ZicuZXmRxSd"
      },
      "outputs": [],
      "source": [
        "from sklearn.metrics import confusion_matrix\n",
        "confusion_matrix(y_test , y_pred)\n",
        "from sklearn.metrics import accuracy_score\n",
        "accuracy_score(y_test , y_pred)\n",
        "from sklearn.model_selection import cross_val_score"
      ]
    },
    {
      "cell_type": "code",
      "execution_count": null,
      "metadata": {
        "colab": {
          "base_uri": "https://localhost:8080/"
        },
        "id": "ASul66yJR77a",
        "outputId": "48251676-8848-44b3-e06b-17228a7cf9da"
      },
      "outputs": [
        {
          "output_type": "stream",
          "name": "stdout",
          "text": [
            "              precision    recall  f1-score   support\n",
            "\n",
            "           0       1.00      1.00      1.00        91\n",
            "           1       1.00      1.00      1.00       209\n",
            "\n",
            "    accuracy                           1.00       300\n",
            "   macro avg       1.00      1.00      1.00       300\n",
            "weighted avg       1.00      1.00      1.00       300\n",
            "\n"
          ]
        }
      ],
      "source": [
        "from sklearn.metrics import classification_report\n",
        "print(classification_report(y_pred , y_test))"
      ]
    },
    {
      "cell_type": "code",
      "execution_count": null,
      "metadata": {
        "colab": {
          "base_uri": "https://localhost:8080/",
          "height": 295
        },
        "id": "A1Fja9cBSDqd",
        "outputId": "e38ed190-6e46-4b68-f31c-0660758494ce"
      },
      "outputs": [
        {
          "output_type": "display_data",
          "data": {
            "text/plain": [
              "<Figure size 432x288 with 1 Axes>"
            ],
            "image/png": "[encoded data removed]"
          },
          "metadata": {
            "needs_background": "light"
          }
        }
      ],
      "source": [
        "features = df.columns\n",
        "importances = clf.feature_importances_\n",
        "indices = np.argsort(importances)\n",
        "\n",
        "plt.title('FEATURE IMPORTANCES')\n",
        "plt.barh(range(len(indices)),importances[indices], color='b' , align=\"center\")\n",
        "plt.yticks(range(len(indices)),[features[i] for i in indices])\n",
        "plt.xlabel('RELATIVE IMPORTANCE')\n",
        "plt.show()"
      ]
    },
    {
      "cell_type": "code",
      "execution_count": null,
      "metadata": {
        "colab": {
          "base_uri": "https://localhost:8080/"
        },
        "id": "EYzqvV4D78vH",
        "outputId": "88d7fe67-2f37-485f-838a-0dceafff636d"
      },
      "outputs": [
        {
          "output_type": "execute_result",
          "data": {
            "text/plain": [
              "(91, 0, 0, 209)"
            ]
          },
          "metadata": {},
          "execution_count": 22
        }
      ],
      "source": [
        "tp, fp, fn, tn = confusion_matrix(y_test, y_pred).ravel()\n",
        "(tp, fp, fn, tn)"
      ]
    },
    {
      "cell_type": "code",
      "execution_count": null,
      "metadata": {
        "colab": {
          "base_uri": "https://localhost:8080/"
        },
        "id": "qvu0p04h_CbE",
        "outputId": "6a295b08-044d-401c-f146-2b888a3ad4dd"
      },
      "outputs": [
        {
          "output_type": "execute_result",
          "data": {
            "text/plain": [
              "1.0"
            ]
          },
          "metadata": {},
          "execution_count": 23
        }
      ],
      "source": [
        "accuracy = (tp+tn)/(tp+fp+fn+tn)\n",
        "accuracy"
      ]
    },
    {
      "cell_type": "code",
      "execution_count": null,
      "metadata": {
        "colab": {
          "base_uri": "https://localhost:8080/"
        },
        "id": "6OvR3-y5_juC",
        "outputId": "b4ff18a9-bbed-4550-bcd9-21e49f6de0e1"
      },
      "outputs": [
        {
          "output_type": "execute_result",
          "data": {
            "text/plain": [
              "1.0"
            ]
          },
          "metadata": {},
          "execution_count": 24
        }
      ],
      "source": [
        "precision = tp/(tp+fp)\n",
        "precision"
      ]
    },
    {
      "cell_type": "code",
      "execution_count": null,
      "metadata": {
        "colab": {
          "base_uri": "https://localhost:8080/"
        },
        "id": "xwPzlclr_4V8",
        "outputId": "906c32ea-a1de-4cea-82ae-c1170546eb4c"
      },
      "outputs": [
        {
          "output_type": "execute_result",
          "data": {
            "text/plain": [
              "1.0"
            ]
          },
          "metadata": {},
          "execution_count": 25
        }
      ],
      "source": [
        "recall = tp/(tp+fn)\n",
        "recall"
      ]
    },
    {
      "cell_type": "code",
      "execution_count": null,
      "metadata": {
        "colab": {
          "base_uri": "https://localhost:8080/"
        },
        "id": "e2yVgloYAGQM",
        "outputId": "91a63fc4-460b-4f33-ce6d-fd1d0c67dd8e"
      },
      "outputs": [
        {
          "output_type": "execute_result",
          "data": {
            "text/plain": [
              "1.0"
            ]
          },
          "metadata": {},
          "execution_count": 26
        }
      ],
      "source": [
        "f1 = 2*(precision*recall)/(precision+recall)\n",
        "f1"
      ]
    }
  ],
  "metadata": {
    "colab": {
      "provenance": [],
      "authorship_tag": "ABX9TyPsPAf+Bby46wLtUzeNDOFO",
      "include_colab_link": true
    },
    "kernelspec": {
      "display_name": "Python 3",
      "name": "python3"
    },
    "language_info": {
      "name": "python"
    }
  },
  "nbformat": 4,
  "nbformat_minor": 0
}